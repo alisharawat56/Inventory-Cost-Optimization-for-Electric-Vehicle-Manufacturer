{
  "nbformat": 4,
  "nbformat_minor": 0,
  "metadata": {
    "colab": {
      "provenance": []
    },
    "kernelspec": {
      "name": "python3",
      "display_name": "Python 3"
    },
    "language_info": {
      "name": "python"
    }
  },
  "cells": [
    {
      "cell_type": "markdown",
      "source": [
        "Decribe the structure of order data\n"
      ],
      "metadata": {
        "id": "YbJ224OGq6J-"
      }
    },
    {
      "cell_type": "code",
      "execution_count": null,
      "metadata": {
        "colab": {
          "base_uri": "https://localhost:8080/"
        },
        "id": "Vjxzw9oGpHPB",
        "outputId": "41f8d345-7d3e-4276-acff-618f60f714dd"
      },
      "outputs": [
        {
          "output_type": "stream",
          "name": "stdout",
          "text": [
            "  Supplier_ID  Order_Date Shipping_Date Expected_Delivery_Date Product_Code  \\\n",
            "0        SUP1  2025-03-24    2025-03-30             2025-03-31         P001   \n",
            "1        SUP1  2025-04-22    2025-04-28             2025-05-04         P003   \n",
            "2        SUP1  2025-07-22    2025-07-29             2025-07-30         P003   \n",
            "3        SUP1  2024-10-04    2024-10-08             2024-10-18         P005   \n",
            "4        SUP1  2024-10-19    2024-11-02             2024-11-08         P005   \n",
            "\n",
            "       Product_Name  Per_Unit_Cost  Quantity  Total_Cost  \n",
            "0         Inverters          38.49        85     3271.65  \n",
            "1  Onboard Chargers         113.46       142    16111.32  \n",
            "2  Onboard Chargers         119.66       140    16752.40  \n",
            "3            Struts         349.00       184    64216.00  \n",
            "4            Struts         372.14        48    17862.72  \n",
            "<class 'pandas.core.frame.DataFrame'>\n",
            "RangeIndex: 1002 entries, 0 to 1001\n",
            "Data columns (total 9 columns):\n",
            " #   Column                  Non-Null Count  Dtype  \n",
            "---  ------                  --------------  -----  \n",
            " 0   Supplier_ID             1002 non-null   object \n",
            " 1   Order_Date              1002 non-null   object \n",
            " 2   Shipping_Date           1002 non-null   object \n",
            " 3   Expected_Delivery_Date  1002 non-null   object \n",
            " 4   Product_Code            1002 non-null   object \n",
            " 5   Product_Name            1002 non-null   object \n",
            " 6   Per_Unit_Cost           1001 non-null   float64\n",
            " 7   Quantity                1002 non-null   int64  \n",
            " 8   Total_Cost              999 non-null    float64\n",
            "dtypes: float64(2), int64(1), object(6)\n",
            "memory usage: 70.6+ KB\n",
            "None\n",
            "       Supplier_ID  Order_Date Shipping_Date Expected_Delivery_Date  \\\n",
            "count         1002        1002          1002                   1002   \n",
            "unique           3         336           345                    353   \n",
            "top           SUP1  2024-12-07    2024-11-17             2025-03-08   \n",
            "freq           340           7             8                      8   \n",
            "mean           NaN         NaN           NaN                    NaN   \n",
            "std            NaN         NaN           NaN                    NaN   \n",
            "min            NaN         NaN           NaN                    NaN   \n",
            "25%            NaN         NaN           NaN                    NaN   \n",
            "50%            NaN         NaN           NaN                    NaN   \n",
            "75%            NaN         NaN           NaN                    NaN   \n",
            "max            NaN         NaN           NaN                    NaN   \n",
            "\n",
            "       Product_Code      Product_Name  Per_Unit_Cost     Quantity  \\\n",
            "count          1002              1002    1001.000000  1002.000000   \n",
            "unique            5                 5            NaN          NaN   \n",
            "top            P003  Onboard Chargers            NaN          NaN   \n",
            "freq            209               209            NaN          NaN   \n",
            "mean            NaN               NaN     138.899401   110.807385   \n",
            "std             NaN               NaN     115.376491    52.974291   \n",
            "min             NaN               NaN      30.120000    20.000000   \n",
            "25%             NaN               NaN      48.190000    64.000000   \n",
            "50%             NaN               NaN     103.290000   115.000000   \n",
            "75%             NaN               NaN     160.190000   158.000000   \n",
            "max             NaN               NaN     399.260000   200.000000   \n",
            "\n",
            "          Total_Cost  \n",
            "count     999.000000  \n",
            "unique           NaN  \n",
            "top              NaN  \n",
            "freq             NaN  \n",
            "mean    15050.259940  \n",
            "std     15123.264515  \n",
            "min       637.000000  \n",
            "25%      5105.895000  \n",
            "50%      9098.110000  \n",
            "75%     18984.660000  \n",
            "max     72530.700000  \n",
            "Supplier_ID                object\n",
            "Order_Date                 object\n",
            "Shipping_Date              object\n",
            "Expected_Delivery_Date     object\n",
            "Product_Code               object\n",
            "Product_Name               object\n",
            "Per_Unit_Cost             float64\n",
            "Quantity                    int64\n",
            "Total_Cost                float64\n",
            "dtype: object\n"
          ]
        }
      ],
      "source": [
        "import pandas as pd\n",
        "\n",
        "# Load the dataset\n",
        "df = pd.read_csv('/content/B2B_Order_Data.csv')\n",
        "\n",
        "# Preview the first few rows\n",
        "print(df.head())\n",
        "\n",
        "# Get summary statistics and data types\n",
        "print(df.info())\n",
        "print(df.describe(include='all'))\n",
        "print(df.dtypes)\n"
      ]
    },
    {
      "cell_type": "markdown",
      "source": [
        "Clean the dataset to remove duplicate rows or any rows with missing data\n"
      ],
      "metadata": {
        "id": "egC1SdgSrAh5"
      }
    },
    {
      "cell_type": "code",
      "source": [
        "import pandas as pd\n",
        "\n",
        "# Load the dataset\n",
        "df = pd.read_csv('/content/B2B_Order_Data.csv')\n",
        "\n",
        "# Remove duplicate rows\n",
        "df_no_duplicates = df.drop_duplicates()\n",
        "\n",
        "# Remove rows with any missing values\n",
        "df_cleaned = df_no_duplicates.dropna()\n",
        "\n",
        "# Optional: Save the cleaned dataset to a new CSV file\n",
        "cleaned_file_path = '/content/Cleaned_B2B_Order_Data.csv'\n",
        "df_cleaned.to_csv(cleaned_file_path, index=False)\n",
        "\n",
        "\n",
        "print(f\"Cleaned dataset saved to {cleaned_file_path}\")"
      ],
      "metadata": {
        "colab": {
          "base_uri": "https://localhost:8080/"
        },
        "id": "t0a5Nk3CrHjD",
        "outputId": "2f64e8ca-6ecf-49ec-ebb3-5eb2b14c0723"
      },
      "execution_count": null,
      "outputs": [
        {
          "output_type": "stream",
          "name": "stdout",
          "text": [
            "Cleaned dataset saved to /content/Cleaned_B2B_Order_Data.csv\n"
          ]
        }
      ]
    },
    {
      "cell_type": "markdown",
      "source": [
        "Compute the average time to delivery by supplier"
      ],
      "metadata": {
        "id": "1xuLbYzUrG36"
      }
    },
    {
      "cell_type": "code",
      "source": [
        "import pandas as pd\n",
        "\n",
        "# Load the cleaned dataset\n",
        "df = pd.read_csv('/content/Cleaned_B2B_Order_Data.csv')\n",
        "\n",
        "# Convert date columns to datetime\n",
        "df['Order_Date'] = pd.to_datetime(df['Order_Date'])\n",
        "df['Expected_Delivery_Date'] = pd.to_datetime(df['Expected_Delivery_Date'])\n",
        "\n",
        "# Calculate lead time in days\n",
        "df['lead_time_to_delivery'] = (df['Expected_Delivery_Date'] - df['Order_Date']).dt.days\n",
        "\n",
        "# Save the updated dataset\n",
        "updated_file_path = '/content/Updated_B2B_Order_Data.csv'\n",
        "df.to_csv(updated_file_path, index=False)\n",
        "\n",
        "print(f\"Updated dataset with lead time to delivery saved to {updated_file_path}\\n\\n\")\n",
        "\n",
        "\n",
        "\n",
        "\n",
        "\n",
        "\n",
        "def average_lead_time_by_supplier(csv_file):\n",
        "    # Load the dataset\n",
        "    df = pd.read_csv(csv_file)\n",
        "\n",
        "    # Group by Supplier_ID and calculate the mean lead_time_to_delivery\n",
        "    avg_lead_time = df.groupby('Supplier_ID')['lead_time_to_delivery'].mean()\n",
        "\n",
        "    # Return as a DataFrame for better readability\n",
        "    return avg_lead_time.reset_index().rename(columns={'lead_time_to_delivery': 'average_lead_time'})\n",
        "\n",
        "\n",
        "\n",
        "result = average_lead_time_by_supplier('/content/Updated_B2B_Order_Data.csv')\n",
        "print(result)\n"
      ],
      "metadata": {
        "colab": {
          "base_uri": "https://localhost:8080/"
        },
        "id": "enzgj3hIsosr",
        "outputId": "9753b9bb-1d83-4ea7-fcac-074657d83d99"
      },
      "execution_count": null,
      "outputs": [
        {
          "output_type": "stream",
          "name": "stdout",
          "text": [
            "Updated dataset with lead time to delivery saved to /content/Updated_B2B_Order_Data.csv\n",
            "\n",
            "\n",
            "  Supplier_ID  average_lead_time\n",
            "0        SUP1          13.718935\n",
            "1        SUP2          13.079646\n",
            "2        SUP3          13.332288\n"
          ]
        }
      ]
    },
    {
      "cell_type": "markdown",
      "source": [
        "Now create an Inventory Management Simulation\n",
        "\n",
        "*   Randomly select demand from normal dist (mean - 50, std - 10)\n",
        "*   Holding cost is $10 per unit per day\n",
        "\n",
        "*   Shortage cost is $50 per unit per day\n",
        "*   For each supplier, use their average days to delivery as the order lead time\n",
        "*   For each supplier, run a 180-day simulation and calculate the inventory management costs for that supplier\n",
        "\n",
        "\n",
        "\n",
        "\n",
        "\n",
        "\n"
      ],
      "metadata": {
        "id": "fuyVPx9evX_n"
      }
    },
    {
      "cell_type": "code",
      "source": [
        "import numpy as np\n",
        "import pandas as pd\n",
        "\n",
        "# Parameters\n",
        "num_simulations = 100\n",
        "num_days = 180\n",
        "mean_demand = 50\n",
        "std_dev_demand = 10\n",
        "holding_cost_per_unit_per_day = 10\n",
        "shortage_cost_per_unit_per_day = 50\n",
        "delivery_times = {\n",
        "    'Supplier 1': 13.718935,\n",
        "    'Supplier 2': 13.079646,\n",
        "    'Supplier 3': 13.332288\n",
        "}\n",
        "\n",
        "# Function to run a single simulation\n",
        "def run_simulation(delivery_time):\n",
        "    total_holding_cost = 0\n",
        "    total_shortage_cost = 0\n",
        "    inventory_level = 0\n",
        "\n",
        "    daily_demand = np.random.normal(mean_demand, std_dev_demand, num_days)\n",
        "\n",
        "    for day in range(num_days):\n",
        "        demand = daily_demand[day]\n",
        "        inventory_level -= demand\n",
        "\n",
        "        # If inventory is negative, calculate shortage cost\n",
        "        if inventory_level < 0:\n",
        "            total_shortage_cost += abs(inventory_level) * shortage_cost_per_unit_per_day\n",
        "            inventory_level = 0  # Reset inventory level to 0 after shortage\n",
        "\n",
        "        # Calculate holding cost\n",
        "        total_holding_cost += inventory_level * holding_cost_per_unit_per_day\n",
        "\n",
        "        # Simulate delivery after the specified lead time\n",
        "        if day % delivery_time == 0:\n",
        "            inventory_level += mean_demand * delivery_time  # Replenish inventory\n",
        "\n",
        "    return total_holding_cost, total_shortage_cost\n",
        "\n",
        "# Running simulations for each supplier\n",
        "results = {'Supplier': [], 'Simulation': [], 'Total_Holding_Cost': [], 'Total_Shortage_Cost': []}\n",
        "\n",
        "for supplier, delivery_time in delivery_times.items():\n",
        "    for sim in range(num_simulations):\n",
        "        holding_cost, shortage_cost = run_simulation(delivery_time)\n",
        "        results['Supplier'].append(supplier)\n",
        "        results['Simulation'].append(sim + 1)\n",
        "        results['Total_Holding_Cost'].append(holding_cost)\n",
        "        results['Total_Shortage_Cost'].append(shortage_cost)\n",
        "\n",
        "# Convert results to a DataFrame\n",
        "results_df = pd.DataFrame(results)\n",
        "\n",
        "# Display results\n",
        "print(results_df.head())\n",
        "\n",
        "# Save results to a CSV file\n",
        "results_df.to_csv('/content/Inventory_Management_Simulation_Results.csv', index=False)\n",
        "\n"
      ],
      "metadata": {
        "colab": {
          "base_uri": "https://localhost:8080/"
        },
        "id": "5sutpQ3Fwj_0",
        "outputId": "3aa2c7ca-1166-4ff1-e0ef-af588df7c163"
      },
      "execution_count": null,
      "outputs": [
        {
          "output_type": "stream",
          "name": "stdout",
          "text": [
            "     Supplier  Simulation  Total_Holding_Cost  Total_Shortage_Cost\n",
            "0  Supplier 1           1        42167.999628        421874.442836\n",
            "1  Supplier 1           2        43980.525591        422231.381780\n",
            "2  Supplier 1           3        42177.829381        422858.358507\n",
            "3  Supplier 1           4        37371.658762        415668.890016\n",
            "4  Supplier 1           5        43674.984366        411532.563070\n"
          ]
        }
      ]
    },
    {
      "cell_type": "markdown",
      "source": [
        "Calculate average total inventory cost by supplier"
      ],
      "metadata": {
        "id": "yHLL5UeJ1x9N"
      }
    },
    {
      "cell_type": "code",
      "source": [
        "# Calculate total inventory cost as sum of holding and shortage costs\n",
        "results_df['Total_Inventory_Cost'] = results_df['Total_Holding_Cost'] + results_df['Total_Shortage_Cost']\n",
        "\n",
        "# Calculate average total inventory cost by supplier\n",
        "average_cost_by_supplier = (\n",
        "    results_df.groupby('Supplier')['Total_Inventory_Cost']\n",
        "    .mean()\n",
        "    .reset_index()\n",
        "    .rename(columns={'Total_Inventory_Cost': 'Average_Total_Inventory_Cost'})\n",
        ")\n",
        "\n",
        "# Display the result\n",
        "print(average_cost_by_supplier)\n",
        "\n",
        "# Save to a new CSV file\n",
        "average_cost_by_supplier.to_csv('/content/Average_Inventory_Cost_By_Supplier.csv', index=False)\n"
      ],
      "metadata": {
        "colab": {
          "base_uri": "https://localhost:8080/"
        },
        "id": "ENJEj2Ee1ytB",
        "outputId": "06836b7c-d3b0-4e01-9f2f-de260c4fe828"
      },
      "execution_count": null,
      "outputs": [
        {
          "output_type": "stream",
          "name": "stdout",
          "text": [
            "     Supplier  Average_Total_Inventory_Cost\n",
            "0  Supplier 1                 458747.959091\n",
            "1  Supplier 2                 457215.913816\n",
            "2  Supplier 3                 458067.039122\n"
          ]
        }
      ]
    }
  ]
}